{
 "cells": [
  {
   "cell_type": "code",
   "execution_count": 132,
   "id": "satellite-bandwidth",
   "metadata": {
    "ExecuteTime": {
     "end_time": "2021-04-26T11:25:48.154077Z",
     "start_time": "2021-04-26T11:25:47.763725Z"
    }
   },
   "outputs": [],
   "source": [
    "import sympy\n",
    "import numpy as np\n",
    "import networkx as nx\n",
    "import string\n",
    "import pydotplus\n",
    "import graphviz\n",
    "import math\n",
    "from scipy.spatial import ConvexHull\n",
    "import matplotlib.pyplot as plt\n",
    "%matplotlib inli"
   ]
  },
  {
   "cell_type": "code",
   "execution_count": 21,
   "id": "accompanied-comparison",
   "metadata": {
    "ExecuteTime": {
     "end_time": "2021-04-26T09:58:34.504603Z",
     "start_time": "2021-04-26T09:58:34.484210Z"
    }
   },
   "outputs": [
    {
     "name": "stdout",
     "output_type": "stream",
     "text": [
      "[[( 0.,) (11.,) (63.,) (98.,) (34.,) ( 5.,) ( 1.,) (19.,) (85.,) (76.,)\n",
      "  (61.,) (98.,) (95.,) (48.,) (41.,) (99.,) ( 3.,) (35.,) (63.,) (26.,)]\n",
      " [(11.,) ( 0.,) (53.,) (69.,) (70.,) (88.,) (13.,) (25.,) (73.,) (71.,)\n",
      "  (90.,) (94.,) (34.,) (85.,) (79.,) (88.,) (12.,) (55.,) (43.,) (12.,)]\n",
      " [(63.,) (53.,) ( 0.,) (53.,) (33.,) (57.,) (90.,) (13.,) (97.,) (26.,)\n",
      "  (90.,) (82.,) (38.,) (13.,) ( 6.,) (76.,) (26.,) (84.,) (47.,) (63.,)]\n",
      " [(98.,) (69.,) (53.,) ( 0.,) (66.,) (74.,) (83.,) (90.,) (65.,) ( 4.,)\n",
      "  (82.,) (47.,) (32.,) (78.,) (56.,) (39.,) (46.,) (76.,) (16.,) (12.,)]\n",
      " [(34.,) (70.,) (33.,) (66.,) ( 0.,) (87.,) (68.,) (26.,) (15.,) (78.,)\n",
      "  (85.,) (35.,) (40.,) (93.,) (26.,) (49.,) (62.,) (29.,) (18.,) (77.,)]\n",
      " [( 5.,) (88.,) (57.,) (74.,) (87.,) ( 0.,) (90.,) (67.,) ( 2.,) (25.,)\n",
      "  (22.,) ( 3.,) (83.,) (43.,) (72.,) (86.,) (80.,) (80.,) (40.,) (48.,)]\n",
      " [( 1.,) (13.,) (90.,) (83.,) (68.,) (90.,) ( 0.,) (68.,) (50.,) (38.,)\n",
      "  (17.,) (87.,) (63.,) ( 7.,) (24.,) (55.,) (77.,) (96.,) (51.,) (13.,)]\n",
      " [(19.,) (25.,) (13.,) (90.,) (26.,) (67.,) (68.,) ( 0.,) (32.,) (12.,)\n",
      "  (78.,) (86.,) (58.,) (58.,) (49.,) (10.,) (67.,) (55.,) (61.,) (39.,)]\n",
      " [(85.,) (73.,) (97.,) (65.,) (15.,) ( 2.,) (50.,) (32.,) ( 0.,) (53.,)\n",
      "  (11.,) (25.,) (96.,) (88.,) (35.,) (58.,) (63.,) (93.,) (23.,) ( 3.,)]\n",
      " [(76.,) (71.,) (26.,) ( 4.,) (78.,) (25.,) (38.,) (12.,) (53.,) ( 0.,)\n",
      "  (69.,) (16.,) (33.,) (76.,) (47.,) (25.,) (33.,) (65.,) (58.,) (43.,)]\n",
      " [(61.,) (90.,) (90.,) (82.,) (85.,) (22.,) (17.,) (78.,) (11.,) (69.,)\n",
      "  ( 0.,) (33.,) (53.,) (54.,) (79.,) (63.,) (35.,) (78.,) (61.,) (85.,)]\n",
      " [(98.,) (94.,) (82.,) (47.,) (35.,) ( 3.,) (87.,) (86.,) (25.,) (16.,)\n",
      "  (33.,) ( 0.,) (63.,) (19.,) (93.,) (49.,) (64.,) (40.,) (82.,) (60.,)]\n",
      " [(95.,) (34.,) (38.,) (32.,) (40.,) (83.,) (63.,) (58.,) (96.,) (33.,)\n",
      "  (53.,) (63.,) ( 0.,) (47.,) (85.,) (21.,) (80.,) (49.,) (89.,) (78.,)]\n",
      " [(48.,) (85.,) (13.,) (78.,) (93.,) (43.,) ( 7.,) (58.,) (88.,) (76.,)\n",
      "  (54.,) (19.,) (47.,) ( 0.,) (41.,) (83.,) (51.,) (63.,) (94.,) (21.,)]\n",
      " [(41.,) (79.,) ( 6.,) (56.,) (26.,) (72.,) (24.,) (49.,) (35.,) (47.,)\n",
      "  (79.,) (93.,) (85.,) (41.,) ( 0.,) (72.,) ( 1.,) (80.,) (58.,) ( 8.,)]\n",
      " [(99.,) (88.,) (76.,) (39.,) (49.,) (86.,) (55.,) (10.,) (58.,) (25.,)\n",
      "  (63.,) (49.,) (21.,) (83.,) (72.,) ( 0.,) ( 4.,) (79.,) (73.,) (15.,)]\n",
      " [( 3.,) (12.,) (26.,) (46.,) (62.,) (80.,) (77.,) (67.,) (63.,) (33.,)\n",
      "  (35.,) (64.,) (80.,) (51.,) ( 1.,) ( 4.,) ( 0.,) (92.,) (48.,) (47.,)]\n",
      " [(35.,) (55.,) (84.,) (76.,) (29.,) (80.,) (96.,) (55.,) (93.,) (65.,)\n",
      "  (78.,) (40.,) (49.,) (63.,) (80.,) (79.,) (92.,) ( 0.,) (76.,) ( 8.,)]\n",
      " [(63.,) (43.,) (47.,) (16.,) (18.,) (40.,) (51.,) (61.,) (23.,) (58.,)\n",
      "  (61.,) (82.,) (89.,) (94.,) (58.,) (73.,) (48.,) (76.,) ( 0.,) (20.,)]\n",
      " [(26.,) (12.,) (63.,) (12.,) (77.,) (48.,) (13.,) (39.,) ( 3.,) (43.,)\n",
      "  (85.,) (60.,) (78.,) (21.,) ( 8.,) (15.,) (47.,) ( 8.,) (20.,) ( 0.,)]]\n"
     ]
    }
   ],
   "source": [
    "dist = sympy.randMatrix(r= 20 ,c = 20, min = 1, max =99, symmetric= True, seed = 6)\n",
    "# sympy 의 인덱스 접근은 [r][c] 형식이 아닌 [r,c]형식로 해야함\n",
    "\n",
    "for i in range(20):\n",
    "    dist[i,i] = 0\n",
    "\n",
    "dt = [('len', float)]\n",
    "dist = np.array(dist,dtype='float64')\n",
    "dist = dist.view(dt)\n",
    "print(dist)"
   ]
  },
  {
   "cell_type": "code",
   "execution_count": 22,
   "id": "aggregate-october",
   "metadata": {
    "ExecuteTime": {
     "end_time": "2021-04-26T09:58:37.202024Z",
     "start_time": "2021-04-26T09:58:35.179418Z"
    }
   },
   "outputs": [],
   "source": [
    "Graph = nx.from_numpy_matrix(dist)\n",
    "Graph = nx.relabel_nodes(Graph, dict(zip(range(len(Graph.nodes())),string.ascii_uppercase)))    \n",
    "\n",
    "Graph = nx.drawing.nx_agraph.to_agraph(Graph)\n",
    "\n",
    "Graph.node_attr.update(color=\"red\", style=\"filled\")\n",
    "Graph.edge_attr.update(color=\"blue\", width=\"2.0\")\n",
    "\n",
    "Graph.draw('outgraph.png', format='png', prog='neato')\n",
    "Graph.draw('outdot.dot', format='dot', prog='neato')"
   ]
  },
  {
   "cell_type": "code",
   "execution_count": 23,
   "id": "communist-alpha",
   "metadata": {
    "ExecuteTime": {
     "end_time": "2021-04-26T09:58:37.690696Z",
     "start_time": "2021-04-26T09:58:37.685804Z"
    }
   },
   "outputs": [],
   "source": [
    "Dot = graphviz.Source.from_file('outdot.dot')\n"
   ]
  },
  {
   "cell_type": "code",
   "execution_count": 31,
   "id": "quantitative-mention",
   "metadata": {
    "ExecuteTime": {
     "end_time": "2021-04-26T10:00:07.020839Z",
     "start_time": "2021-04-26T10:00:06.671900Z"
    }
   },
   "outputs": [],
   "source": [
    "parsed_dot = pydotplus.parse_dot_data(Dot.source)"
   ]
  },
  {
   "cell_type": "code",
   "execution_count": 83,
   "id": "italian-racing",
   "metadata": {
    "ExecuteTime": {
     "end_time": "2021-04-26T10:20:04.017637Z",
     "start_time": "2021-04-26T10:20:04.010958Z"
    }
   },
   "outputs": [],
   "source": [
    "nodes = parsed_dot.get_node_list()\n",
    "# 노드 정보들이 담긴 리스트"
   ]
  },
  {
   "cell_type": "code",
   "execution_count": 84,
   "id": "detected-investor",
   "metadata": {
    "ExecuteTime": {
     "end_time": "2021-04-26T10:20:11.387383Z",
     "start_time": "2021-04-26T10:20:11.381404Z"
    }
   },
   "outputs": [
    {
     "name": "stdout",
     "output_type": "stream",
     "text": [
      "None\n",
      "None\n",
      "None\n",
      "\"1337.1,645.17\"\n",
      "\"1964.8,1342.8\"\n",
      "\"1900.2,288.53\"\n",
      "\"1719.8,2121.6\"\n",
      "\"27,1809.6\"\n",
      "\"1036.4,937.51\"\n",
      "\"1304.8,578.65\"\n",
      "\"2505.6,1204.2\"\n",
      "\"1018,1090.1\"\n",
      "\"2011.6,2107.2\"\n",
      "\"105.28,671.01\"\n",
      "\"821,866.73\"\n",
      "\"3399.9,80.366\"\n",
      "\"1188.9,18\"\n",
      "\"1605.9,724.79\"\n",
      "\"1892.1,701.98\"\n",
      "\"1567.5,665.68\"\n",
      "\"769.74,1739.2\"\n",
      "\"889.49,2844.8\"\n",
      "\"1166.4,1263.3\"\n"
     ]
    }
   ],
   "source": [
    "position_list = []\n",
    "for i,node in enumerate(nodes):\n",
    "    pos_val = node.get_pos()\n",
    "    print(pos_val)"
   ]
  },
  {
   "cell_type": "code",
   "execution_count": 163,
   "id": "approximate-making",
   "metadata": {
    "ExecuteTime": {
     "end_time": "2021-04-26T11:36:36.749284Z",
     "start_time": "2021-04-26T11:36:36.742233Z"
    }
   },
   "outputs": [],
   "source": [
    "position_list = []\n",
    "for i,node in enumerate(nodes):\n",
    "    pos_val = node.get_pos()\n",
    "    arr = []\n",
    "    if pos_val == None:\n",
    "        continue\n",
    "    else:\n",
    "        x = float(pos_val.split(',')[0].replace('\"',\"\"))\n",
    "        y = float(pos_val.split(',')[1].replace('\"',\"\"))\n",
    "        # 각노드의 x,y좌표를 dotsource 에서 접근\n",
    "        arr.append(i-2)\n",
    "        arr.append(x)\n",
    "        arr.append(y)\n",
    "    position_list.append(arr)"
   ]
  },
  {
   "cell_type": "code",
   "execution_count": 166,
   "id": "requested-slovak",
   "metadata": {
    "ExecuteTime": {
     "end_time": "2021-04-26T11:37:38.534280Z",
     "start_time": "2021-04-26T11:37:38.521147Z"
    }
   },
   "outputs": [],
   "source": [
    "points = np.array(position_list,dtype = 'float64')[:,1:3]\n",
    "ch = ConvexHull(points)\n",
    "\n",
    "hull_indices = ch.vertices"
   ]
  },
  {
   "cell_type": "code",
   "execution_count": 171,
   "id": "greenhouse-running",
   "metadata": {
    "ExecuteTime": {
     "end_time": "2021-04-26T11:38:37.781010Z",
     "start_time": "2021-04-26T11:38:37.635743Z"
    }
   },
   "outputs": [
    {
     "data": {
      "image/png": "[encoded data removed]",
      "text/plain": [
       "<Figure size 432x288 with 1 Axes>"
      ]
     },
     "metadata": {
      "needs_background": "light"
     },
     "output_type": "display_data"
    }
   ],
   "source": [
    "hull_pts = points[hull_indices,:]\n",
    "plt.plot(points[:, 0], points[:, 1], 'ko', markersize=10)\n",
    "plt.fill(hull_pts[:,0], hull_pts[:,1], fill=False, edgecolor='b')\n",
    "plt.xlim(0, 1)\n",
    "plt.ylim(0, 1)\n",
    "plt.show()"
   ]
  },
  {
   "cell_type": "code",
   "execution_count": null,
   "id": "individual-spectrum",
   "metadata": {},
   "outputs": [],
   "source": []
  }
 ],
 "metadata": {
  "kernelspec": {
   "display_name": "Python 3",
   "language": "python",
   "name": "python3"
  },
  "language_info": {
   "codemirror_mode": {
    "name": "ipython",
    "version": 3
   },
   "file_extension": ".py",
   "mimetype": "text/x-python",
   "name": "python",
   "nbconvert_exporter": "python",
   "pygments_lexer": "ipython3",
   "version": "3.8.8"
  },
  "varInspector": {
   "cols": {
    "lenName": 16,
    "lenType": 16,
    "lenVar": 40
   },
   "kernels_config": {
    "python": {
     "delete_cmd_postfix": "",
     "delete_cmd_prefix": "del ",
     "library": "var_list.py",
     "varRefreshCmd": "print(var_dic_list())"
    },
    "r": {
     "delete_cmd_postfix": ") ",
     "delete_cmd_prefix": "rm(",
     "library": "var_list.r",
     "varRefreshCmd": "cat(var_dic_list()) "
    }
   },
   "position": {
    "height": "379px",
    "left": "959px",
    "right": "20px",
    "top": "631px",
    "width": "350px"
   },
   "types_to_exclude": [
    "module",
    "function",
    "builtin_function_or_method",
    "instance",
    "_Feature"
   ],
   "window_display": true
  }
 },
 "nbformat": 4,
 "nbformat_minor": 5
}
